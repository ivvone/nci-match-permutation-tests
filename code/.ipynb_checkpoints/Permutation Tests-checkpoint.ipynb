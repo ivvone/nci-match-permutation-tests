{
 "cells": [
  {
   "cell_type": "markdown",
   "metadata": {},
   "source": [
    "Permutation Tests For NCI-MATCH Basket Trials\n",
    "===\n",
    "Created 6/30/2021 by Ivvone Zhou \n",
    "\n",
    "Reviewed and edited on 07/12/2021 by Deborah Plana\n",
    "\n",
    "---\n",
    "\n",
    "1. Import Modules and Functions \n",
    "\n",
    "2. Overview of Data\n",
    "\n",
    "3. Sampling\n",
    "\n",
    "4. Plots\n",
    "\n",
    "5. Information on Source Data"
   ]
  },
  {
   "cell_type": "markdown",
   "metadata": {},
   "source": [
    "## 1. Import Modules and Functions (`./code/functions_permutation_test.py`)"
   ]
  },
  {
   "cell_type": "code",
   "execution_count": 1,
   "metadata": {},
   "outputs": [],
   "source": [
    "import pandas as pd\n",
    "import numpy as np\n",
    "import matplotlib as mpl\n",
    "import matplotlib.pyplot as plt\n",
    "\n",
    "# %pip install lifelines\n",
    "import functions_permutation_test as pt"
   ]
  },
  {
   "cell_type": "markdown",
   "metadata": {},
   "source": [
    "## 2. Overview of Data"
   ]
  },
  {
   "cell_type": "code",
   "execution_count": 2,
   "metadata": {},
   "outputs": [],
   "source": [
    "# Names of drugs tested and corresponding NCI MATCH subprotocols\n",
    "# Ambiguity in Copanlisib trial: one observation with unknown cancer type, labelled as UNKNOWN\n",
    "info = [[\"Dabrafenib&Trametinib\", \"H\"],\n",
    "       [\"T-DM1\", \"Q\"],\n",
    "       [\"Trametinib\",\"R\"],\n",
    "       [\"Nivolumab\", \"Z1D\"],\n",
    "       [\"AZD4547\", \"W\"],\n",
    "       [\"Capivasertib\", \"Y\"],\n",
    "       [\"Binimetinib\", \"Z1A\"],\n",
    "       [\"Taselisib\", \"I\"],\n",
    "       [\"CopanlisibBlank\", \"Z1F\"],\n",
    "       [\"Afatinib\", \"B\"]]\n",
    "\n",
    "data_folder = \"../data/original/\"\n",
    "out_folder = \"../output/sampled data/\"\n",
    "fig_folder = \"../output/plots/\""
   ]
  },
  {
   "cell_type": "markdown",
   "metadata": {},
   "source": [
    "Let's see how many patients are in each subgroup, both in tumor volume change and progression-free survival data. The distributions should be the same (imputed) for TVC and PFS if PFS was collected from only patients who had SD or better."
   ]
  },
  {
   "cell_type": "code",
   "execution_count": 3,
   "metadata": {
    "scrolled": true
   },
   "outputs": [
    {
     "name": "stdout",
     "output_type": "stream",
     "text": [
      "../data/original/1_H_tumorchange.xlsx\n",
      "Cancer type\n",
      "GYN                          6\n",
      "Adeno lung                   4\n",
      "Intra cholangio              4\n",
      "CNS                          3\n",
      "Mixed neuroendocrine ca      2\n",
      "Adeno anus                   1\n",
      "Adeno pancreas               1\n",
      "Ameloblastoma of mandible    1\n",
      "Neuroendocrine colon ca      1\n",
      "Name: Percent change, dtype: int64\n",
      "../data/original/2_Q_tumorchange.xlsx\n",
      "Cancer type\n",
      "GYN                                             11\n",
      "Lower GI                                         8\n",
      "Biliary Adenocarcinoma                           3\n",
      "Lung Carcinoma                                   3\n",
      "Salivary Gland                                   2\n",
      "Adenoca from Extramammary Paget's of Scrotum     1\n",
      "Name: Percent change, dtype: int64\n",
      "../data/original/3_R_tumorchange.xlsx\n",
      "Cancer type\n",
      "Lung                    7\n",
      "GI                      5\n",
      "Prostate                4\n",
      "Gyn                     3\n",
      "Other                   2\n",
      "Breast                  1\n",
      "Unknown primary site    1\n",
      "Name: Percent change, dtype: int64\n",
      "../data/original/4_Z1D_tumorchange.xlsx\n",
      "Cancer category\n",
      "Endometrioid endometrial adenocarcinoma                 11\n",
      "Other                                                    9\n",
      "Adenocarcinoma of prostate                               4\n",
      "Adenocarcinoma of esophagus/esophagogastric junction     3\n",
      "Mullerian tumor                                          3\n",
      "Cholangiocarcinoma                                       2\n",
      "Ductal carcinoma of breast                               2\n",
      "Pancreatic neuroendocrine carcinoma                      1\n",
      "Name: Percent change, dtype: int64\n",
      "../data/original/5_W_tumorchange.xlsx\n",
      "Cancer type\n",
      "Breast                  9\n",
      "Cervical                5\n",
      "Urothelial/bladder      5\n",
      "Salivary gland          3\n",
      "Endometrial             2\n",
      "NSCLC                   2\n",
      "Rectal                  2\n",
      "Anal                    1\n",
      "Astrocytoma             1\n",
      "Cholangio               1\n",
      "Female genital tract    1\n",
      "Gallbladder             1\n",
      "Pancreas                1\n",
      "Prostate                1\n",
      "SCL                     1\n",
      "Name: Percent change, dtype: int64\n",
      "../data/original/6_Y_tumorchange.xlsx\n",
      "Cancer category\n",
      "Breast carcinoma    15\n",
      "Gynecologic         10\n",
      "Other                3\n",
      "Name: Percent change, dtype: int64\n",
      "../data/original/7_Z1A_tumorchange.xlsx\n",
      "Cancer type\n",
      "Colorectal adenocarcinoma    20\n",
      "Gynecologic tumor             7\n",
      "Cholangiocarcinoma            6\n",
      "Head and neck tumor           4\n",
      "Unknown primary site          2\n",
      "Respiratory tract tumor       1\n",
      "Urinary tract carcinoma       1\n",
      "Name: Percent change, dtype: int64\n",
      "../data/original/8_I_tumorchange.xlsx\n",
      "Cancer type\n",
      "SCC, anog. Region        11\n",
      "Gyne. Ovary              10\n",
      "Colorectal                7\n",
      "Gyne. Endo.               5\n",
      "Pancreatic or biliary     5\n",
      "HNSCC                     4\n",
      "Adenoid cystic            3\n",
      "Other                     3\n",
      "Sarcoma                   3\n",
      "Adeno. UGI or lung        2\n",
      "Name: Percent change, dtype: int64\n",
      "../data/original/9_Z1F_tumorchange.xlsx\n",
      "Cancer type\n",
      "Gyn              5\n",
      "GI               4\n",
      "GU               4\n",
      "Breast           2\n",
      "Other            2\n",
      "Sarcoma          2\n",
      "Head and neck    1\n",
      "Lung             1\n",
      "UNKNOWN          1\n",
      "Name: Percent change, dtype: int64\n",
      "../data/original/10_B_tumorchange.xlsx\n",
      "Cancer type\n",
      "Breast ER+     10\n",
      "Other           6\n",
      "Urothelial      4\n",
      "Biliary         2\n",
      "Cervical        2\n",
      "Colorectal      2\n",
      "Small bowel     2\n",
      "Name: Percent change, dtype: int64\n"
     ]
    }
   ],
   "source": [
    "for i in range(10):\n",
    "    # filepath of data\n",
    "    fileloc = data_folder + str(i+1) + \"_\" + info[i][1] + \"_tumorchange.xlsx\"\n",
    "    print(fileloc)\n",
    "    \n",
    "    # read in subprotocol data\n",
    "    df = pd.read_excel(fileloc)\n",
    "    \n",
    "    # if using aggregated groups, select aggby=\"Cancer category\"\n",
    "    if i == 3 or i == 5:\n",
    "        aggby = \"Cancer category\"\n",
    "    else:\n",
    "        aggby = \"Cancer type\"\n",
    "    \n",
    "    # count num of patients per tumor type\n",
    "    typecount = pt.count_types(df, by=aggby)\n",
    "    print(typecount)"
   ]
  },
  {
   "cell_type": "markdown",
   "metadata": {},
   "source": [
    "## 3. Tumor Volume Change"
   ]
  },
  {
   "cell_type": "markdown",
   "metadata": {},
   "source": [
    "### 3a. Sampling"
   ]
  },
  {
   "cell_type": "markdown",
   "metadata": {},
   "source": [
    "There are two options for sampling:\n",
    "1) Sample using `sbatch/slurm` (recommended).\n",
    "2) Sample from this Jupyter notebook (for demonstration purposes only, use $\\leq$1000 iterations).\n",
    "\n",
    "First, we created a null distribution for each subtype with 3 or more participants. We drew 10^7 samples of n participants, n being the number of participants with the subtype of interest. We did this for each of the seven trials. This took several hours."
   ]
  },
  {
   "cell_type": "markdown",
   "metadata": {},
   "source": [
    "#### Sample TVC Instructions:\n",
    "\n",
    "Modify the line in`submit_sample_job.sh` which reads \n",
    "`python3 run_permutation_test.py 0 7 1 tvc`. \n",
    "\n",
    "1) `8` refers to the `0+1`th trial (`Dabrafenib&Trametinib`);\n",
    "2) `7` refers to sampling `10**7` times;\n",
    "3) `1` refers to the 1st time this is run; and \n",
    "4) `tvc` refers to sampling TVC (as opposed to PFS).\n",
    "\n",
    "Then, enter the command `sbatch submit_sample_job.sh`. \n",
    "\n",
    "For speed, run the file multiple times (changing the last iteration number), splitting up the sampling iterations. For example, to sample a total of $10^6$ times, you can run the code 10 times, each sampling $10^5$, then aggregate them all using a line like \n",
    "`awk '(NR == 1) || (FNR > 1)' *pfs.xlsx.sampled_it*.csv > 4_Z1D_pfs.xlsx.sampled_full.csv`."
   ]
  },
  {
   "cell_type": "markdown",
   "metadata": {},
   "source": [
    "#### Sample TVC on this Jupyter Notebook"
   ]
  },
  {
   "cell_type": "code",
   "execution_count": 17,
   "metadata": {
    "scrolled": true
   },
   "outputs": [
    {
     "name": "stdout",
     "output_type": "stream",
     "text": [
      "../data/original/1_H_tumorchange.xlsx\n",
      "../data/original/2_Q_tumorchange.xlsx\n",
      "../data/original/3_R_tumorchange.xlsx\n",
      "../data/original/4_Z1D_tumorchange.xlsx\n",
      "../data/original/5_W_tumorchange.xlsx\n",
      "../data/original/6_Y_tumorchange.xlsx\n",
      "../data/original/7_Z1A_tumorchange.xlsx\n",
      "../data/original/8_I_tumorchange.xlsx\n",
      "../data/original/9_Z1F_tumorchange.xlsx\n",
      "../data/original/10_B_tumorchange.xlsx\n"
     ]
    }
   ],
   "source": [
    "# Sampling tumor change volume: time-consuming\n",
    "for i in range(10):\n",
    "    fileloc = data_folder + str(i+1) + \"_\" + info[i][1] + \"_tumorchange.xlsx\"\n",
    "    print(fileloc)\n",
    "    df = pd.read_excel(fileloc)\n",
    "    \n",
    "    if i == 3 or i == 5:\n",
    "        aggby = \"Cancer category\"\n",
    "    else:\n",
    "        aggby = \"Cancer type\"\n",
    "        \n",
    "    typecount = pt.count_types(df, by=aggby)\n",
    "    values = df.iloc[:,-1]\n",
    "    #print(typecount)\n",
    "    \n",
    "    # Sample step\n",
    "    sampled = pt.sample(typecount, values, it=10**3)\n",
    "    \n",
    "    # Save to sampled data folder\n",
    "    sampled.to_csv(out_folder + str(i+1) + \"_\" + info[i][1] + \"_tumorchange.xlsx\" + \n",
    "                   \".\" + aggby + \".sampled_1k.csv\")"
   ]
  },
  {
   "cell_type": "markdown",
   "metadata": {},
   "source": [
    "### 3b. Plotting TVC"
   ]
  },
  {
   "cell_type": "code",
   "execution_count": 4,
   "metadata": {},
   "outputs": [],
   "source": [
    "import matplotlib.gridspec as gridspec\n",
    "\n",
    "def plot(num, samplefileloc, typecount, values, aggby, out):\n",
    "    \"\"\"Plots and saves a plot containing all subtypes (n>2)\n",
    "    num = trial #\n",
    "    samplefileloc = path to csv of sampled values\n",
    "    typecount = df of each subtype and # of patients with that subtype\n",
    "    values = list of values for all subtypes\"\"\"\n",
    "    title = str(num) + \" - \" + info[num-1][0] + \" - \" + str(info[num-1][1])\n",
    "    print(\"Plotting \" + title + \"...\")\n",
    "    \n",
    "    p_vals = []\n",
    "    \n",
    "    df_toplot = pd.read_csv(samplefileloc)\n",
    "    overall_avg = np.average(values)\n",
    "\n",
    "    x_min = -80\n",
    "    x_max = 40\n",
    "\n",
    "    # set up subplots\n",
    "    gs = gridspec.GridSpec(8, 1)\n",
    "    plt.figure(figsize=[2,9])\n",
    "\n",
    "    # Formatting\n",
    "    plt.rc('font', size=9)          # controls default text sizes\n",
    "    plt.rc('axes', titlesize=9)     # fontsize of the axes title\n",
    "    plt.rc('axes', labelsize=9)    # fontsize of the x and y labels\n",
    "    plt.rc('xtick', labelsize=9)    # fontsize of the tick labels\n",
    "    plt.rc('ytick', labelsize=9)    # fontsize of the tick labels\n",
    "    \n",
    "    ymax = 0\n",
    "    names = typecount.index\n",
    "    n_subgroup = 0\n",
    "    for i in range(len(typecount)):\n",
    "        n = typecount[i]\n",
    "        name = names[i]\n",
    "        if n < 3 or name == \"Other\":\n",
    "            continue\n",
    "        subtype_avg = np.average(df[df[aggby] == name].iloc[:,-1])\n",
    "        x = df_toplot[name]\n",
    "        ps = pt.p_calc(subtype_avg, x)\n",
    "        p_vals.append([title+\": \"+name, ps[0], ps[1]])\n",
    "        p = round(ps[0], 4)\n",
    "        # first p-value (for values left of the observed mean, corresponding to null hypothesis of activity greater than expected)\n",
    "        \n",
    "        mpl.rcParams['axes.spines.left'] = False\n",
    "        mpl.rcParams['axes.spines.right'] = False\n",
    "        mpl.rcParams['axes.spines.top'] = False\n",
    "        \n",
    "        # BEGIN PLOT\n",
    "        ax = plt.subplot(gs[n_subgroup, 0])\n",
    "        n_subgroup += 1\n",
    "         \n",
    "        # add average tvc to output\n",
    "        plt.xlabel(name + \" (n=\" + str(n) + \")\", wrap=True) # + \" (n=\" + str(n) + \", p=\" + str(p) + \", average = \" + str(round(subtype_avg,3))+ \")\", wrap=True)\n",
    "        \n",
    "        ticks = np.arange(x_min, x_max+1, 40)\n",
    "        plt.xticks(ticks=ticks)\n",
    "\n",
    "        # Plot null distribution\n",
    "        plt.hist(x, bins=35, density=True, color=\"silver\")\n",
    "        \n",
    "        # Set ymax to be be max of first graph\n",
    "        if i == 0:\n",
    "            ymax = plt.gca().get_ylim()[1]\n",
    "            \n",
    "        plt.xlim(x_min, x_max)\n",
    "        plt.ylim(0, ymax)\n",
    "        \n",
    "        plt.tick_params(left = False, labelleft = False)\n",
    "        # Red line at subtype average\n",
    "        plt.vlines(subtype_avg, ymin=0, ymax=ymax,color=\"crimson\")\n",
    "        \n",
    "        i+=1\n",
    "    \n",
    "    # Title\n",
    "    plt.suptitle(title)\n",
    "    \n",
    "    # Spacing between plots\n",
    "    plt.tight_layout()\n",
    "    \n",
    "    # Save\n",
    "    plt.savefig(out)\n",
    "    plt.show()\n",
    "    return p_vals"
   ]
  },
  {
   "cell_type": "code",
   "execution_count": 5,
   "metadata": {
    "scrolled": true
   },
   "outputs": [
    {
     "name": "stdout",
     "output_type": "stream",
     "text": [
      "../data/original/1_H_tumorchange.xlsx\n",
      "Plotting 1 - Dabrafenib&Trametinib - H...\n"
     ]
    },
    {
     "data": {
      "image/png": "[encoded data removed]",
      "text/plain": [
       "<Figure size 200x900 with 4 Axes>"
      ]
     },
     "metadata": {},
     "output_type": "display_data"
    },
    {
     "name": "stdout",
     "output_type": "stream",
     "text": [
      "../data/original/2_Q_tumorchange.xlsx\n",
      "Plotting 2 - T-DM1 - Q...\n"
     ]
    },
    {
     "data": {
      "image/png": "[encoded data removed]",
      "text/plain": [
       "<Figure size 200x900 with 4 Axes>"
      ]
     },
     "metadata": {},
     "output_type": "display_data"
    },
    {
     "name": "stdout",
     "output_type": "stream",
     "text": [
      "../data/original/3_R_tumorchange.xlsx\n",
      "Plotting 3 - Trametinib - R...\n"
     ]
    },
    {
     "data": {
      "image/png": "[encoded data removed]",
      "text/plain": [
       "<Figure size 200x900 with 4 Axes>"
      ]
     },
     "metadata": {},
     "output_type": "display_data"
    },
    {
     "name": "stdout",
     "output_type": "stream",
     "text": [
      "../data/original/4_Z1D_tumorchange.xlsx\n",
      "Plotting 4 - Nivolumab - Z1D...\n"
     ]
    },
    {
     "data": {
      "image/png": "[encoded data removed]",
      "text/plain": [
       "<Figure size 200x900 with 4 Axes>"
      ]
     },
     "metadata": {},
     "output_type": "display_data"
    },
    {
     "name": "stdout",
     "output_type": "stream",
     "text": [
      "../data/original/5_W_tumorchange.xlsx\n",
      "Plotting 5 - AZD4547 - W...\n"
     ]
    },
    {
     "data": {
      "image/png": "[encoded data removed]",
      "text/plain": [
       "<Figure size 200x900 with 4 Axes>"
      ]
     },
     "metadata": {},
     "output_type": "display_data"
    },
    {
     "name": "stdout",
     "output_type": "stream",
     "text": [
      "../data/original/6_Y_tumorchange.xlsx\n",
      "Plotting 6 - Capivasertib - Y...\n"
     ]
    },
    {
     "data": {
      "image/png": "[encoded data removed]",
      "text/plain": [
       "<Figure size 200x900 with 2 Axes>"
      ]
     },
     "metadata": {},
     "output_type": "display_data"
    },
    {
     "name": "stdout",
     "output_type": "stream",
     "text": [
      "../data/original/7_Z1A_tumorchange.xlsx\n",
      "Plotting 7 - Binimetinib - Z1A...\n"
     ]
    },
    {
     "data": {
      "image/png": "[encoded data removed]",
      "text/plain": [
       "<Figure size 200x900 with 4 Axes>"
      ]
     },
     "metadata": {},
     "output_type": "display_data"
    },
    {
     "name": "stdout",
     "output_type": "stream",
     "text": [
      "../data/original/8_I_tumorchange.xlsx\n",
      "Plotting 8 - Taselisib - I...\n"
     ]
    },
    {
     "data": {
      "image/png": "[encoded data removed]",
      "text/plain": [
       "<Figure size 200x900 with 8 Axes>"
      ]
     },
     "metadata": {},
     "output_type": "display_data"
    },
    {
     "name": "stdout",
     "output_type": "stream",
     "text": [
      "../data/original/9_Z1F_tumorchange.xlsx\n",
      "Plotting 9 - CopanlisibBlank - Z1F...\n"
     ]
    },
    {
     "data": {
      "image/png": "[encoded data removed]",
      "text/plain": [
       "<Figure size 200x900 with 3 Axes>"
      ]
     },
     "metadata": {},
     "output_type": "display_data"
    },
    {
     "name": "stdout",
     "output_type": "stream",
     "text": [
      "../data/original/10_B_tumorchange.xlsx\n",
      "Plotting 10 - Afatinib - B...\n"
     ]
    },
    {
     "data": {
      "image/png": "[encoded data removed]",
      "text/plain": [
       "<Figure size 200x900 with 2 Axes>"
      ]
     },
     "metadata": {},
     "output_type": "display_data"
    }
   ],
   "source": [
    "# Plotting tumor change volume\n",
    "for i in range(10):\n",
    "    fileloc = data_folder + str(i+1) + \"_\" + info[i][1] + \"_tumorchange.xlsx\"\n",
    "    print(fileloc)\n",
    "    df = pd.read_excel(fileloc)\n",
    "    \n",
    "    if i == 3 or i == 5:\n",
    "        aggby = \"Cancer category\"\n",
    "    else:\n",
    "        aggby = \"Cancer type\"\n",
    "        \n",
    "    typecount = pt.count_types(df, by=aggby)\n",
    "    values = df[\"Percent change\"]\n",
    "    p_vals = plot(i+1, out_folder + str(i+1) + \"_\" + info[i][1] + \"_tumorchange.xlsx.\"+aggby+\".sampled_1k.csv\", typecount, values, aggby, \n",
    "                 out=fig_folder + str(i+1) + \"_\" + info[i][1] + \"_tumorchange.xlsx.\"+aggby+\".sampled_1k.csv.plot.pdf\")"
   ]
  },
  {
   "cell_type": "markdown",
   "metadata": {},
   "source": [
    "## 3. Progression-Free Survival"
   ]
  },
  {
   "cell_type": "markdown",
   "metadata": {},
   "source": [
    "[lifelines documentation](https://lifelines.readthedocs.io/en/latest/Quickstart.html)"
   ]
  },
  {
   "cell_type": "code",
   "execution_count": null,
   "metadata": {
    "scrolled": true
   },
   "outputs": [
    {
     "name": "stdout",
     "output_type": "stream",
     "text": [
      "../data/original/3_R_pfs.xlsx\n",
      "Cancer type\n",
      "Lung                    9\n",
      "GI                      8\n",
      "Gyn                     4\n",
      "Prostate                4\n",
      "Lymphoma                2\n",
      "Other                   2\n",
      "Unknown primary site    2\n",
      "Breast                  1\n",
      "Name: Months, dtype: int64\n",
      "../data/original/4_Z1D_pfs.xlsx\n",
      "Cancer category\n",
      "Endometrioid endometrial adenocarcinoma                 13\n",
      "Other                                                   10\n",
      "Adenocarcinoma of prostate                               5\n",
      "Mullerian tumor                                          4\n",
      "Adenocarcinoma of esophagus/esophagogastric junction     3\n",
      "Cholangiocarcinoma                                       3\n",
      "Ductal carcinoma of breast                               3\n",
      "Pancreatic neuroendocrine carcinoma                      1\n",
      "Name: Months, dtype: int64\n"
     ]
    },
    {
     "name": "stderr",
     "output_type": "stream",
     "text": [
      "C:\\Users\\ivvon\\anaconda3\\Lib\\site-packages\\lifelines\\utils\\__init__.py:1122: ConvergenceWarning: Column Subset have very low variance when conditioned on death event present or not. This may harm convergence. This could be a form of 'complete separation'. For example, try the following code:\n",
      "\n",
      ">>> events = df['Censoring value'].astype(bool)\n",
      ">>> print(df.loc[events, 'Subset'].var())\n",
      ">>> print(df.loc[~events, 'Subset'].var())\n",
      "\n",
      "A very low variance means that the column Subset completely determines whether a subject dies or not. See https://stats.stackexchange.com/questions/11109/how-to-deal-with-perfect-separation-in-logistic-regression.\n",
      "\n",
      "  warnings.warn(dedent(warning_text), ConvergenceWarning)\n",
      "C:\\Users\\ivvon\\anaconda3\\Lib\\site-packages\\lifelines\\fitters\\coxph_fitter.py:1607: ConvergenceWarning: Newton-Raphson convergence completed successfully but norm(delta) is still high, 0.312. This may imply non-unique solutions to the maximum likelihood. Perhaps there is collinearity or complete separation in the dataset?\n",
      "\n",
      "  warnings.warn(\n",
      "C:\\Users\\ivvon\\anaconda3\\Lib\\site-packages\\lifelines\\utils\\__init__.py:1122: ConvergenceWarning: Column Subset have very low variance when conditioned on death event present or not. This may harm convergence. This could be a form of 'complete separation'. For example, try the following code:\n",
      "\n",
      ">>> events = df['Censoring value'].astype(bool)\n",
      ">>> print(df.loc[events, 'Subset'].var())\n",
      ">>> print(df.loc[~events, 'Subset'].var())\n",
      "\n",
      "A very low variance means that the column Subset completely determines whether a subject dies or not. See https://stats.stackexchange.com/questions/11109/how-to-deal-with-perfect-separation-in-logistic-regression.\n",
      "\n",
      "  warnings.warn(dedent(warning_text), ConvergenceWarning)\n",
      "C:\\Users\\ivvon\\anaconda3\\Lib\\site-packages\\lifelines\\fitters\\coxph_fitter.py:1607: ConvergenceWarning: Newton-Raphson convergence completed successfully but norm(delta) is still high, 0.312. This may imply non-unique solutions to the maximum likelihood. Perhaps there is collinearity or complete separation in the dataset?\n",
      "\n",
      "  warnings.warn(\n",
      "C:\\Users\\ivvon\\anaconda3\\Lib\\site-packages\\lifelines\\utils\\__init__.py:1122: ConvergenceWarning: Column Subset have very low variance when conditioned on death event present or not. This may harm convergence. This could be a form of 'complete separation'. For example, try the following code:\n",
      "\n",
      ">>> events = df['Censoring value'].astype(bool)\n",
      ">>> print(df.loc[events, 'Subset'].var())\n",
      ">>> print(df.loc[~events, 'Subset'].var())\n",
      "\n",
      "A very low variance means that the column Subset completely determines whether a subject dies or not. See https://stats.stackexchange.com/questions/11109/how-to-deal-with-perfect-separation-in-logistic-regression.\n",
      "\n",
      "  warnings.warn(dedent(warning_text), ConvergenceWarning)\n",
      "C:\\Users\\ivvon\\anaconda3\\Lib\\site-packages\\lifelines\\fitters\\coxph_fitter.py:1607: ConvergenceWarning: Newton-Raphson convergence completed successfully but norm(delta) is still high, 0.312. This may imply non-unique solutions to the maximum likelihood. Perhaps there is collinearity or complete separation in the dataset?\n",
      "\n",
      "  warnings.warn(\n"
     ]
    }
   ],
   "source": [
    "# sample pfs\n",
    "for i in range(2,10):\n",
    "    fileloc = data_folder + str(i+1) + \"_\" + info[i][1] + \"_pfs.xlsx\"\n",
    "    print(fileloc)\n",
    "    df = pd.read_excel(fileloc)\n",
    "    \n",
    "    if i == 3 or i == 5:\n",
    "        aggby = \"Cancer category\"\n",
    "    else:\n",
    "        aggby = \"Cancer type\"\n",
    "         \n",
    "    typecount = pt.count_types(df, by=aggby, mode=\"Months\")\n",
    "    values = df.iloc[:,-2:]\n",
    "    print(typecount)\n",
    "\n",
    "    sampled = pt.sample_pfs(typecount, values, it=10**3)\n",
    "    sampled.to_csv(out_folder + str(i+1) + \"_\" + info[i][1] + \"_pfs.xlsx.\" + aggby + \".sampled_1k.csv\")\n",
    "    "
   ]
  },
  {
   "cell_type": "markdown",
   "metadata": {},
   "source": [
    "### Sample PFS via slurm (preferred):\n",
    "\n",
    "Modify the line in`submit_sample_job.sh` which reads \n",
    "`python3 permutation_test_forcluster_tvc.py 8 5 3 pfs` to the run. `8` refers to the `8+1`th trial (`CopanlisibGI`), `5` refers to sampling `10**5` times, `3` refers to the 3rd time this is run, and `pfs` refers to sampling TVC (as opposed to TVC).\n",
    "\n",
    "Then, run `sbatch submit_sample_job.sh`. \n",
    "\n",
    "For speed, run the file multiple times (changing the last iteration number), splitting up the sampling iterations. For example, to sample a total of $10^6$ times, you can run the code to sample $10^5$ times a total of 10 times, then aggregate them all using a line like \n",
    "`awk '(NR == 1) || (FNR > 1)' *pfs.xlsx.sampled_it*.csv > 4_Z1D_pfs.xlsx.sampled_full.csv`, modified to fit the trial."
   ]
  },
  {
   "cell_type": "code",
   "execution_count": null,
   "metadata": {},
   "outputs": [],
   "source": [
    "def plot_log(ticks, base):\n",
    "    # Converted wanted tick marks to log\n",
    "    conv_ticks = []\n",
    "    for t in ticks:\n",
    "        # Ex: 1 base 2 -> 0\n",
    "        # Ex: 1.5 base 2 -> 0.5850\n",
    "        conv_ticks.append(math.log(t, base))\n",
    "    return conv_ticks"
   ]
  },
  {
   "cell_type": "code",
   "execution_count": null,
   "metadata": {},
   "outputs": [],
   "source": [
    "def plot_pfs(num, samplefileloc, typecount, subtype_ratios, aggby):\n",
    "    \"\"\"Plots and saves a plot of pfs containing all subtypes (n>2) for a trial\n",
    "    Returns left p-values\n",
    "    \n",
    "    num  = trial #\n",
    "    samplefileloc = path to csv of sampled values\n",
    "    typecount = df of each subtype and # of patients with that subtype\n",
    "    values = list of values for all subtypes\n",
    "    aggby = category of subtypes\"\"\"\n",
    "    \n",
    "    title = str(num) + \" - \" + info[num-1][0] + \" - \" + str(info[num-1][1])\n",
    "    print(\"Plotting \" + title + \"...\")\n",
    "    \n",
    "    p_vals = []\n",
    "\n",
    "    ###\n",
    "    df_toplot = pd.read_csv(samplefileloc)\n",
    "    df_toplot.replace(10**-20, 10**20)\n",
    "    \n",
    "    x_max = df_toplot.max()[1:].max()\n",
    "    x_min = df_toplot.min()[1:].min()\n",
    "    print(x_max, x_min)\n",
    "    names = typecount.index\n",
    "    \n",
    "    # Formatting\n",
    "    fig, ax = plt.subplots(figsize=(2,8))\n",
    "    plt.rc('font', size=9)          # controls default text sizes\n",
    "    plt.rc('axes', titlesize=9)     # fontsize of the axes title\n",
    "    plt.rc('axes', labelsize=9)    # fontsize of the x and y labels\n",
    "    plt.rc('xtick', labelsize=9)    # fontsize of the tick labels\n",
    "    plt.rc('ytick', labelsize=9)    # fontsize of the tick labels\n",
    "    \n",
    "    fig.suptitle(title)\n",
    "    \n",
    "    for i in range(len(typecount)):\n",
    "        n = typecount[i]\n",
    "        if n < 3:\n",
    "            continue\n",
    "            \n",
    "        name = names[i]\n",
    "        # Not quite a subtype avg\n",
    "        subtype_avg = subtype_ratios[i]\n",
    "        x = df_toplot[name]\n",
    "        \n",
    "        ps = p_calc(subtype_avg, x)\n",
    "        p = round(ps[0], 4)\n",
    "        p_vals.append([title+\": \"+name, ps[0], ps[1]])\n",
    "        \n",
    "        mpl.rcParams['axes.spines.left'] = False\n",
    "        mpl.rcParams['axes.spines.right'] = False\n",
    "        mpl.rcParams['axes.spines.top'] = False\n",
    "        \n",
    "        # Begin plotting\n",
    "        plt.subplot(7,1, i+1)\n",
    "        plt.xlabel(name)# + \" (n=\" + str(n) + \", p=\" + str(p) + \", ratio=\" + str(round(subtype_avg,3))+ \")\", wrap=True)\n",
    "        \n",
    "        x_ticks = [0.25, 1, 2, 4]\n",
    "        plt.xticks(ticks=np.log2(x_ticks), labels=x_ticks)\n",
    "\n",
    "        n_bins=35\n",
    "        x_bins = np.arange(-2, 2, 0.1)\n",
    "\n",
    "        plt.hist(np.log2(x), bins=x_bins, color=\"silver\")\n",
    "\n",
    "        plt.xlim(-2, 2)\n",
    "        # Set ymax to be be max of first graph\n",
    "        if i == 0:\n",
    "            y_max = plt.gca().get_ylim()[1] \n",
    "        # Red line\n",
    "        plt.vlines(np.log2(subtype_avg), ymin=0, ymax=y_max,color=\"crimson\")\n",
    "            \n",
    "        plt.tick_params(left = False, labelleft = False)\n",
    "        i+=1\n",
    "        \n",
    "    plt.tight_layout()\n",
    "    plt.savefig(samplefileloc + \".\" + aggby + \".plot.pdf\")\n",
    "    plt.show()\n",
    "    return p_vals"
   ]
  },
  {
   "cell_type": "code",
   "execution_count": null,
   "metadata": {
    "scrolled": true
   },
   "outputs": [],
   "source": [
    "# Plotting pfs\n",
    "for i in range(0):\n",
    "    \n",
    "    # 8-Taselisib has no PFS data available\n",
    "    if i == 7:\n",
    "        continue\n",
    "        \n",
    "    # read in data\n",
    "    fileloc = data_folder + str(i+1) + \"_\" + info[i][1] + \"_pfs.xlsx\"\n",
    "    print(fileloc)\n",
    "    df = pd.read_excel(fileloc)\n",
    "    \n",
    "    if i==3 or i==5:\n",
    "        aggby = \"Cancer category\"\n",
    "    else:\n",
    "        aggby = \"Cancer type\"\n",
    "\n",
    "    typecount = count_types(df, by=aggby, mode=\"Months\")\n",
    "    \n",
    "    subtype_ratios = []\n",
    "    \n",
    "    for j in range(len(typecount)):\n",
    "        length = len(df)\n",
    "        n = sum(df[aggby] == typecount.index[j])\n",
    "        if n < 3:\n",
    "            continue\n",
    "\n",
    "        new_df = df\n",
    "        subset_col = [0] * length + [1] * n\n",
    "        new_df = new_df.append(new_df[df[aggby] == typecount.index[j]])\n",
    "        new_df[\"Subset\"] = subset_col\n",
    "        new_df = new_df[[\"Months\", \"Censoring value\", \"Subset\"]]\n",
    "        \n",
    "        # Analyze\n",
    "        cph = CoxPHFitter()\n",
    "        cph.fit(new_df, duration_col=\"Months\", event_col=\"Censoring value\")\n",
    "        ratio = cph.hazard_ratios_[\"Subset\"]\n",
    "        #print(cph.confidence_intervals_)\n",
    "        subtype_ratios.append(ratio)\n",
    "    print(subtype_ratios)\n",
    "    \n",
    "    plot_pfs(i+1, fileloc+\".sampled_full.csv\", typecount, subtype_ratios, aggby)\n"
   ]
  },
  {
   "cell_type": "markdown",
   "metadata": {},
   "source": [
    "### Summary Plot(s)"
   ]
  },
  {
   "cell_type": "code",
   "execution_count": null,
   "metadata": {},
   "outputs": [],
   "source": [
    "run = True\n",
    "# Saves all summary information in csv\n",
    "df_tosave = pd.DataFrame(columns=[\"trial_num\", \"drug\", \"arm_id\", \"subgroup\", \"tvc_n\", \"tvc\", \"tvc_p\", \"pfs_n\", \"pfs\", \"pfs_p\"])\n",
    "for i in [0,1,2,3,4,5,6,7,10,11]:\n",
    "    if not run:\n",
    "        break\n",
    "    num = i+1\n",
    "    \n",
    "    if i==3 or i==5:\n",
    "        aggby = \"Cancer category\"\n",
    "    else:\n",
    "        aggby = \"Cancer type\"\n",
    "    \n",
    "    # PFS files\n",
    "    if i != 7:\n",
    "        pfs_fileloc = data_folder + str(i+1) + \"_\" + info[i][1] + \"_pfs.xlsx\"\n",
    "        pfs_df = pd.read_excel(pfs_fileloc)\n",
    "        pfs_sampled_fileloc = pfs_fileloc + \".sampled_full.csv\"\n",
    "        pfs_sampled_df = pd.read_csv(pfs_sampled_fileloc)\n",
    "        print(pfs_fileloc)\n",
    "    \n",
    "    # TVC files\n",
    "    tvc_fileloc = data_folder + str(i+1) + \"_\" + info[i][1] + \"_tumorchange.xlsx\"\n",
    "    tvc_df = pd.read_excel(tvc_fileloc)\n",
    "    tvc_sampled_fileloc = tvc_fileloc + \".sampled_full.csv\"\n",
    "    tvc_sampled_df = pd.read_csv(tvc_sampled_fileloc)\n",
    "    print(tvc_fileloc)\n",
    "\n",
    "    typecount = count_types(tvc_df, by=aggby, mode=\"Percent change\")\n",
    "    \n",
    "    trial_avg = np.mean(tvc_df.iloc[:,-1])\n",
    "\n",
    "    # For each subgroup\n",
    "    for j in range(len(typecount)):\n",
    "        ### PFS\n",
    "        name = typecount.index[j]\n",
    "        \n",
    "        p_pfs = ratio = n_pfs = 0\n",
    "        if num != 8:\n",
    "            n_pfs = sum(pfs_df[aggby] == name)\n",
    "            if n_pfs < 3:\n",
    "                continue\n",
    "\n",
    "            new_df = pfs_df\n",
    "            subset_col = [0] * len(pfs_df) + [1] * n_pfs\n",
    "            new_df = new_df.append(new_df[new_df[aggby] == name])\n",
    "            new_df[\"Subset\"] = subset_col\n",
    "            new_df = new_df[[\"Months\", \"Censoring value\", \"Subset\"]]\n",
    "\n",
    "            # Analyze\n",
    "            cph = CoxPHFitter()\n",
    "            cph.fit(new_df, duration_col=\"Months\", event_col=\"Censoring value\")\n",
    "            ratio = cph.hazard_ratios_[\"Subset\"]\n",
    "\n",
    "            p_pfs = round(p_calc(ratio, pfs_sampled_df[name])[0], 4)\n",
    "        \n",
    "        ### TVC\n",
    "        n_tvc = sum(tvc_df[aggby] == name)\n",
    "        if n_tvc < 3 or n_pfs < 3:\n",
    "            continue\n",
    "        subtype_avg = np.average(tvc_df[tvc_df[aggby] == name].iloc[:,-1])\n",
    "        p_tvc = round(p_calc(subtype_avg, tvc_sampled_df[name])[0], 4)\n",
    "        \n",
    "        ### Putting it together\n",
    "        row = pd.DataFrame({\"trial_num\": [num], \n",
    "                            \"drug\": [info[i][0]], \n",
    "                            \"arm_id\": [info[i][1]], \n",
    "                            \"subgroup\": [name], \n",
    "                            \"tvc_n\": [n_tvc], \n",
    "                            \"tvc\": [subtype_avg], \n",
    "                            \"adj_tvc\": [subtype_avg - trial_avg], \n",
    "                            \"tvc_p\": [p_tvc], \n",
    "                            \"pfs_n\": [n_pfs], \n",
    "                            \"pfs\": [ratio], \n",
    "                            \"pfs_p\": [p_pfs]})\n",
    "        df_tosave = df_tosave.append(row, ignore_index = True)\n",
    "        \n",
    "df_tosave.to_csv(\"trial_results_summary_raw.csv\")\n",
    "df_tosave"
   ]
  },
  {
   "cell_type": "code",
   "execution_count": null,
   "metadata": {},
   "outputs": [],
   "source": [
    "# INCOMPLETE as of 8/26/22\n",
    "def b_h(df, fdr=0.25):\n",
    "    \"\"\"\n",
    "    Takes in a summary file generated from above code, \n",
    "    returns df with two columns indicating significance by Benjamini-hochberg procedure\n",
    "    \"\"\"\n",
    "    # trial_num\n",
    "    new_df = pd.DataFrame()\n",
    "    tvc_sig = np.empty(0)\n",
    "    pfs_sig = np.empty(0)\n",
    "    for i in range(10):\n",
    "        trial = df[df[\"trial_num\"] == i]\n",
    "        trial = trial[trial[\"subgroup\"] != \"Other\"]\n",
    "        \n",
    "        # TVC\n",
    "        trial = trial.sort_values(by='tvc_p')\n",
    "        crit_vals = np.array(range(1, len(trial)+1)) / len(trial) * fdr\n",
    "        trial[\"tvc_sig\"] = (trial.loc[:,\"tvc_p\"] < crit_vals)*1\n",
    "        tvc_sig = np.append(tvc_sig, trial[\"tvc_sig\"])\n",
    "        \n",
    "        # PFS\n",
    "        trial = trial.sort_values(by='pfs_p')\n",
    "        trial[\"pfs_sig\"] = (trial.loc[:,\"pfs_p\"] < crit_vals)*1\n",
    "        pfs_sig = np.append(pfs_sig, trial[\"pfs_sig\"])\n",
    "\n",
    "        new_df = pd.concat([df,trial])\n",
    "        \n",
    "    #new_df[\"tvc_sig2\"] = tvc_sig\n",
    "    #new_df[\"pfs_sig2\"] = pfs_sig\n",
    "    print(tvc_sig, pfs_sig)\n",
    "    #new_df[\"tvc_sig\"] = tvc_sig\n",
    "    #new_df[\"pfs_sig\"] = pfs_sig\n",
    "    print(new_df)\n",
    "    return new_df"
   ]
  },
  {
   "cell_type": "code",
   "execution_count": null,
   "metadata": {
    "scrolled": false
   },
   "outputs": [],
   "source": [
    "import matplotlib.lines as mlines\n",
    "from matplotlib.patches import Rectangle\n",
    "\n",
    "df_summary = pd.read_excel(\"trial_results_summary_withsig_manual.xlsx\")\n",
    "df_summary[\"sig_or\"] = df_summary[\"tvc_sig\"] + 2* df_summary[\"pfs_sig\"] \n",
    "\n",
    "mpl.rcParams['axes.spines.left'] = True\n",
    "mpl.rcParams['axes.spines.right'] = True\n",
    "mpl.rcParams['axes.spines.top'] = True\n",
    "\n",
    "# Formatting\n",
    "plt.rc('font', size=9)          # controls default text sizes\n",
    "plt.rc('axes', titlesize=9)     # fontsize of the axes title\n",
    "plt.rc('axes', labelsize=9)    # fontsize of the x and y labels\n",
    "plt.rc('xtick', labelsize=9)    # fontsize of the tick labels\n",
    "plt.rc('ytick', labelsize=9)    # fontsize of the tick labels\n",
    "    \n",
    "fig, ax = plt.subplots(figsize=(6.5,4))\n",
    "\n",
    "ax.axhline(0, color='black', linewidth=1)\n",
    "ax.axvline(0, color='black', linewidth=1)\n",
    "\n",
    "df_summary[\"pfs\"].iloc[df_summary[\"pfs\"]==0] = 1\n",
    "\n",
    "# colors\n",
    "colors = df_summary[\"sig_or\"]\n",
    "colors.iloc[colors==0] = \"silver\"\n",
    "colors.iloc[colors==1] = \"royalblue\" \n",
    "colors.iloc[colors==2] = \"lightcoral\"\n",
    "colors.iloc[colors==3] = \"mediumvioletred\"\n",
    "ax.scatter(df_summary[\"adj_tvc\"], plot_log(df_summary[\"pfs\"],2), c=colors, zorder=3) #, s=df_summary[\"tvc_n\"]*10)\n",
    "\n",
    "# Labels\n",
    "count = 1\n",
    "for index, row in df_summary.iterrows():\n",
    "    if row[\"sig_or\"] != \"silver\":\n",
    "        plt.text(row[\"adj_tvc\"]+1.5, np.log2(row[\"pfs\"])*0.95, count, size=12, color=row[\"sig_or\"])\n",
    "        print(count, row[\"drug\"], row[\"subgroup\"], row[\"tvc\"]-row[\"adj_tvc\"])\n",
    "        count += 1\n",
    "\n",
    "ticks = [0.25, 0.5, 1, 2, 4]\n",
    "log_ticks = plot_log(ticks, 2)\n",
    "ax.set_yticks(log_ticks)\n",
    "ax.set_yticklabels(ticks)\n",
    "\n",
    "plt.xlim(-30,30)\n",
    "\n",
    "both_patch = mlines.Line2D([], [], color='mediumvioletred', marker='.', linestyle='None',\n",
    "                          markersize=12, label='Both TVC and PFS significant')\n",
    "tvc_patch = mlines.Line2D([], [], color='royalblue', marker='.', linestyle='None',\n",
    "                          markersize=12, label='Only TVC significant')\n",
    "pfs_patch = mlines.Line2D([], [], color='lightcoral', marker='.', linestyle='None',\n",
    "                          markersize=12, label='Only PFS significant')\n",
    "none_patch = mlines.Line2D([], [], color='silver', marker='.', linestyle='None',\n",
    "                          markersize=12, label='Not significant')\n",
    "plt.legend(handles=[both_patch, tvc_patch, pfs_patch, none_patch], bbox_to_anchor=(1, 1, 0, 0), ncol=1)\n",
    "\n",
    "plt.grid(b=True, which='major', color='lightgray', linestyle='--')\n",
    "\n",
    "plt.xlabel(\"Difference Between Subtype and Trial TVC\")\n",
    "plt.ylabel(\"PFS Hazard Ratio\")\n",
    "plt.tight_layout()\n",
    "plt.savefig(\"./zFigures/pfs_vs_tvc_2.11.pdf\")\n",
    "plt.show()"
   ]
  },
  {
   "cell_type": "code",
   "execution_count": null,
   "metadata": {},
   "outputs": [],
   "source": [
    "i = 0\n",
    "num = 1\n",
    "fileloc = \"./\" + str(num) + \"_\" + info[i][0] + \"_\" + info[i][1] + \"/\" + str(num) + \"_\" + info[i][1] + \"_pfs.xlsx.sampled_full.csv\"\n",
    "print(fileloc)\n",
    "df = pd.read_csv(fileloc)\n",
    "df"
   ]
  },
  {
   "cell_type": "code",
   "execution_count": null,
   "metadata": {},
   "outputs": [],
   "source": [
    "series = df.GYN\n",
    "q1 = np.percentile(series,  5)\n",
    "q2 = np.percentile(series,  50)\n",
    "q3 = np.percentile(series,  95)\n",
    "print(q1, q2, q3)"
   ]
  },
  {
   "cell_type": "markdown",
   "metadata": {},
   "source": [
    "# For Plot"
   ]
  },
  {
   "cell_type": "code",
   "execution_count": null,
   "metadata": {},
   "outputs": [],
   "source": [
    "i=2\n",
    "num = i+1\n",
    "fileloc = \"./\" + str(num) + \"_\" + info[i][0] + \"_\" + info[i][1] + \"/\" + str(num) + \"_\" + info[i][1] + \"_tumorchange.xlsx\"\n",
    "print(fileloc)\n",
    "df = pd.read_excel(fileloc)"
   ]
  },
  {
   "cell_type": "code",
   "execution_count": null,
   "metadata": {},
   "outputs": [],
   "source": [
    "# waterfall plot\n",
    "plt.bar(x=range(len(df.index)), height=df[\"Percent change\"])\n",
    "plt.savefig('./3.svg')"
   ]
  },
  {
   "cell_type": "code",
   "execution_count": null,
   "metadata": {},
   "outputs": [],
   "source": [
    "# histogram\n",
    "plt.hist(df[\"Percent change\"])\n",
    "plt.savefig('./3hist1.svg')\n",
    "plt.show()"
   ]
  },
  {
   "cell_type": "code",
   "execution_count": null,
   "metadata": {},
   "outputs": [],
   "source": [
    "# sampling 1\n",
    "fileloc = \"./\" + str(num) + \"_\" + info[i][0] + \"_\" + info[i][1] + \"/\" + str(num) + \"_\" + info[i][1] + \"_tumorchange.xlsx.sampled_full.csv\"\n",
    "print(fileloc)\n",
    "df_s = pd.read_csv(fileloc)"
   ]
  },
  {
   "cell_type": "code",
   "execution_count": null,
   "metadata": {},
   "outputs": [],
   "source": []
  },
  {
   "cell_type": "code",
   "execution_count": null,
   "metadata": {},
   "outputs": [],
   "source": [
    "df_s.head(5)\n",
    "\n",
    "plt.hist(df_s[\"Lung\"][range(10)], bins=30, range=(-80, 40), density=True)\n",
    "\n",
    "#df_s.columns\n",
    "plt.savefig('./3sample10.svg')\n",
    "plt.show()\n",
    "\n",
    "plt.hist(df_s[\"Lung\"][range(1000)], bins=100, range=(-80, 40), density=True)\n",
    "plt.savefig('./3sample10_3.svg')\n",
    "plt.show()\n",
    "\n",
    "plt.hist(df_s[\"Lung\"][range(10**7)], bins=100, range=(-80, 40), density=True)\n",
    "plt.savefig('./3sample10_7.svg')\n",
    "plt.show()\n",
    "\n",
    "len(df_s.index)"
   ]
  },
  {
   "cell_type": "code",
   "execution_count": null,
   "metadata": {},
   "outputs": [],
   "source": [
    "p_vals = np.arange(0, 10**7, 100000, dtype=\"float\")+100000\n",
    "print(p_vals)\n",
    "avg = np.average(df[\"Percent change\"][df[\"Cancer type\"]==\"Lung\"])\n",
    "\n",
    "for i in range(100000, 10**7+100000, 100000):\n",
    "    p_val = p_calc(avg, df_s[\"Lung\"][range(i)])    \n",
    "    p_vals[int(i/100000-1)] = p_val[0]\n",
    "\n",
    "print(p_vals)"
   ]
  },
  {
   "cell_type": "code",
   "execution_count": null,
   "metadata": {},
   "outputs": [],
   "source": [
    "np.savetxt(\"pvals_trametinib_lung_by105.csv\", p_vals, delimiter=\",\")\n",
    "\n",
    "\n",
    "fig, ax = plt.subplots()    \n",
    "ax.set_xscale('log')\n",
    "plt.plot(np.arange(0, 10**7, 100000, dtype=\"float\")+100000, p_vals)\n",
    "plt.minorticks_on()\n",
    "\n",
    "plt.ticklabel_format(style='scientific')\n",
    "plt.title(\"Trametinib: Lung: P-value every 10^5 from 10^5 to 10^7\")\n",
    "plt.savefig('./3sampleby5.svg')\n",
    "\n",
    "print(avg)"
   ]
  },
  {
   "cell_type": "code",
   "execution_count": null,
   "metadata": {},
   "outputs": [],
   "source": [
    "p_vals = [10, 10**2, 10**3, 10**4, 10**5, 10**6, 10**7]\n",
    "avg = np.average(df[\"Percent change\"][df[\"Cancer type\"]==\"Lung\"])\n",
    "\n",
    "for i in range(1,8):\n",
    "    p_val = p_calc(avg, df_s[\"Lung\"][range(p_vals[i-1])])\n",
    "    p_vals[i-1] = p_val[0]\n",
    "\n",
    "print(p_vals)\n",
    "\n",
    "fig, ax = plt.subplots()    \n",
    "ax.set_xscale('log')\n",
    "plt.plot([10, 10**2, 10**3, 10**4, 10**5, 10**6, 10**7], p_vals)\n",
    "plt.minorticks_on()\n",
    "\n",
    "plt.ticklabel_format(style='scientific')\n",
    "plt.title(\"Trametinib: Lung: P-value every 10^5 from 10^5 to 10^7\")\n",
    "#plt.savefig('./3sampleby5.svg')\n",
    "\n",
    "print(avg)"
   ]
  },
  {
   "cell_type": "code",
   "execution_count": null,
   "metadata": {},
   "outputs": [],
   "source": [
    "i=2\n",
    "num = i+1\n",
    "fileloc = \"./\" + str(num) + \"_\" + info[i][0] + \"_\" + info[i][1] + \"/\" + str(num) + \"_\" + info[i][1] + \"_pfs.xlsx\"\n",
    "print(fileloc)\n",
    "df = pd.read_excel(fileloc)\n",
    "df = df.sort_values(\"Months\")\n",
    "# swimmer plot\n",
    "fig, ax = plt.subplots()    \n",
    "plt.barh(y=range(len(df.index)), width=df[\"Months\"])\n",
    "\n",
    "for i, v in enumerate(df[\"Months\"]):\n",
    "    if df[\"Censoring value\"][i]==0:\n",
    "        ax.text(v + 0.1, i-0.9, \"*\", color='blue', fontweight='bold')\n",
    "        \n",
    "plt.title(\"PFS: Trametinib, lung\")\n",
    "plt.savefig('./3pfs.svg')\n",
    "df"
   ]
  },
  {
   "cell_type": "markdown",
   "metadata": {},
   "source": [
    "## Information on Source Data\n",
    "| Journal | Arm | Title and Citation | Lead Author |\n",
    "| :----------- | :----------- | :----------- | :----------- |\n",
    "| Annals of Oncology\t| Q |\t**Ado-trastuzumab emtansine (T-DM1)** in patients with HER2 amplified tumors excluding breast and gastric/gastro-esophageal junction (GEJ) adenocarcinomas: Results from the NCI-MATCH Trial (EAY131) Subprotocol Q Jhaveri KL. Ann Oncol. 2019 Nov 1;30(11):1821-1830 | Komal L. Jhaveri |\n",
    "| Journal of Clinical Oncology | Z1D | **Nivolumab** Is Effective in Mismatch Repair–Deficient Noncolorectal Cancers: Results From Arm Z1D—A Subprotocol of the NCI-MATCH (EAY131) Study Azad NS. J Clin Oncol. 2019 Nov 25:JCO.1900818 | Nilofer S. Azad |\n",
    "|Clinical Cancer Research|\tR|\t**Trametinib** activity in patients with solid tumors and lymphomas harboring BRAF non-V600 mutations or fusions: Results from NCI-MATCH (EAY131) Johnson DB. Clin Cancer Res. 2020 Jan 10 | Douglas B. Johnson |\n",
    "|Journal of Clinical Oncology\t|W|\tPhase II Study of **AZD4547** in Patients With Tumors Harboring Aberrations in the FGFR Pathway: Results From the NCI-MATCH Trial (EAY131) Subprotocol W Chae YK. J Clin Oncol. 2020 May 28:JCO.19.02630 | Young K. Chae |\n",
    "| Journal of Clinical Oncology|\tH|\t**Dabrafenib and Trametinib** in Patients With Tumors With BRAFV600E Mutations: Results of the NCI-MATCH Trial Subprotocol H Salama AKS. J Clin Oncol. 2020 Aug 06:JCO.20.00762 | April K.S. Salama|\n",
    "|JAMA Oncology\t|Y|\tEffect of **Capivasertib** in Patients with an AKT1 E17K-mutated Tumor: NCI-MATCH Subprotocol EAY131-Y Nonrandomized Trial Kalinsky KM. JAMA Oncol. 2020 Dec 30 | Kevin M. Kalinsky|\n",
    "| Clinical Cancer Research\t|Z1A|\tDifferential Outcomes in Codon 12/13 and Codon 61 NRAS-Mutated Cancers in the Phase 2 NCI-MATCH Trial of **Binimetinib** in Patients with NRAS-Mutated Tumors Cleary JM. Clin Cancer Res. 2021 Feb 26|James M. Cleary|"
   ]
  },
  {
   "cell_type": "markdown",
   "metadata": {},
   "source": [
    "End of file."
   ]
  }
 ],
 "metadata": {
  "kernelspec": {
   "display_name": "Python 3 (ipykernel)",
   "language": "python",
   "name": "python3"
  },
  "language_info": {
   "codemirror_mode": {
    "name": "ipython",
    "version": 3
   },
   "file_extension": ".py",
   "mimetype": "text/x-python",
   "name": "python",
   "nbconvert_exporter": "python",
   "pygments_lexer": "ipython3",
   "version": "3.11.5"
  }
 },
 "nbformat": 4,
 "nbformat_minor": 4
}
